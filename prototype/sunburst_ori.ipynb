{
 "cells": [
  {
   "cell_type": "markdown",
   "metadata": {},
   "source": [
    "# 旭日圖\n",
    "\n",
    "## 下拉式選單選學年度"
   ]
  },
  {
   "cell_type": "code",
   "execution_count": 1,
   "metadata": {},
   "outputs": [],
   "source": [
    "from dash import Dash, dcc, html, Input, Output\n",
    "import pandas as pd\n",
    "import plotly.express as px"
   ]
  },
  {
   "cell_type": "code",
   "execution_count": 2,
   "metadata": {},
   "outputs": [],
   "source": [
    "# df = pd.read_excel('102~111學年度學生資料.112.09.18.xlsx', engine='xlrd')\n",
    "df = pd.read_excel('./102_111StdInfo1Acdm.xlsx')"
   ]
  },
  {
   "cell_type": "code",
   "execution_count": 3,
   "metadata": {},
   "outputs": [],
   "source": [
    "app = Dash(__name__)"
   ]
  },
  {
   "cell_type": "code",
   "execution_count": 4,
   "metadata": {},
   "outputs": [],
   "source": [
    "# 應用的布局\n",
    "app.layout = html.Div([\n",
    "    html.H4('Student Distribution by Academic Year, Education Type, and Degree'),\n",
    "    dcc.Dropdown(\n",
    "        id='year-dropdown',\n",
    "        options=[{'label': year, 'value': year} for year in df['學年度'].unique()],\n",
    "        value=df['學年度'].unique()[0],\n",
    "        clearable=False\n",
    "    ),\n",
    "    dcc.Graph(id=\"sunburst-chart\"),\n",
    "])"
   ]
  },
  {
   "cell_type": "code",
   "execution_count": 5,
   "metadata": {},
   "outputs": [],
   "source": [
    "# 回調函數來更新旭日圖\n",
    "@app.callback(\n",
    "    Output(\"sunburst-chart\", \"figure\"), \n",
    "    [Input(\"year-dropdown\", \"value\")])\n",
    "\n",
    "def AcademicYear_chart(selected_year):\n",
    "    # 根據選定的學年度過濾數據\n",
    "    filtered_df = df[df['學年度'] == selected_year]\n",
    "    \n",
    "    # 統計每個學制和畢業科系下的學生數量\n",
    "    student_counts = filtered_df.groupby(['學制', '學制/系科']).size().reset_index(name='Count')\n",
    "\n",
    "    # 繪製旭日圖\n",
    "    fig = px.sunburst(student_counts, path=['學制', '學制/系科'], values='Count',\n",
    "                      title=f'Student Distribution for Academic Year {selected_year}')\n",
    "    return fig\n"
   ]
  },
  {
   "cell_type": "code",
   "execution_count": 6,
   "metadata": {
    "scrolled": false
   },
   "outputs": [
    {
     "data": {
      "text/html": [
       "\n",
       "        <iframe\n",
       "            width=\"100%\"\n",
       "            height=\"650\"\n",
       "            src=\"http://127.0.0.1:8888/\"\n",
       "            frameborder=\"0\"\n",
       "            allowfullscreen\n",
       "            \n",
       "        ></iframe>\n",
       "        "
      ],
      "text/plain": [
       "<IPython.lib.display.IFrame at 0x1f90a769d90>"
      ]
     },
     "metadata": {},
     "output_type": "display_data"
    }
   ],
   "source": [
    "# 運行服務器\n",
    "if __name__ == '__main__':\n",
    "    app.run_server(debug=True, port=8888)"
   ]
  }
 ],
 "metadata": {
  "kernelspec": {
   "display_name": "Python 3",
   "language": "python",
   "name": "python3"
  },
  "language_info": {
   "codemirror_mode": {
    "name": "ipython",
    "version": 3
   },
   "file_extension": ".py",
   "mimetype": "text/x-python",
   "name": "python",
   "nbconvert_exporter": "python",
   "pygments_lexer": "ipython3",
   "version": "3.9.13"
  }
 },
 "nbformat": 4,
 "nbformat_minor": 4
}
